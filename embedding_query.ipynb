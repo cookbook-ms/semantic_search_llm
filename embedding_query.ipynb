{
 "cells": [
  {
   "cell_type": "code",
   "execution_count": 15,
   "id": "aab588f3",
   "metadata": {},
   "outputs": [],
   "source": [
    "import pandas as pd \n",
    "import requests \n",
    "import faiss \n",
    "import numpy as np \n",
    "import json \n",
    "from tqdm import tqdm\n",
    "from litellm import completion\n",
    "import os\n",
    "from PIL import Image\n",
    "from IPython.display import display\n"
   ]
  },
  {
   "cell_type": "code",
   "execution_count": 16,
   "id": "509c86d5",
   "metadata": {},
   "outputs": [],
   "source": [
    "queries = pd.read_csv('queries.csv')[\"search_term_pt\"].values.tolist()"
   ]
  },
  {
   "cell_type": "code",
   "execution_count": 17,
   "id": "7119bea1",
   "metadata": {},
   "outputs": [],
   "source": [
    "API_URL = \"https://pd67dqn1bd.execute-api.eu-west-1.amazonaws.com\"\n",
    "API_KEY = \"sk-JD1R8ZSJ6x-fIoYNyFHosA\"\n",
    "API_ENDPOINT = \"/embeddings\"\n",
    "\n",
    "def embed(text):\n",
    "    payload = {\n",
    "        \"model\": \"text-embedding-3-small\",\n",
    "        \"input\": text\n",
    "    }\n",
    "    headers = {\n",
    "        \"Content-Type\": \"application/json\",\n",
    "        \"Authorization\": f\"Bearer {API_KEY}\"\n",
    "    }\n",
    "    resp = requests.post(API_URL + API_ENDPOINT, headers=headers, json=payload)\n",
    "    resp.raise_for_status()\n",
    "    data = resp.json()\n",
    "    return data[\"data\"][0][\"embedding\"]"
   ]
  },
  {
   "cell_type": "code",
   "execution_count": 18,
   "id": "01a8774f",
   "metadata": {},
   "outputs": [
    {
     "name": "stderr",
     "output_type": "stream",
     "text": [
      "100%|██████████| 100/100 [00:47<00:00,  2.10it/s]\n"
     ]
    }
   ],
   "source": [
    "# Get embeddings for all items\n",
    "query_embeddings = []\n",
    "for text in tqdm(queries):\n",
    "    query_embeddings.append(embed(text))\n",
    "query_embedding_array = np.array(query_embeddings).astype(\"float32\")"
   ]
  },
  {
   "cell_type": "code",
   "execution_count": null,
   "id": "5ce9e5bf",
   "metadata": {},
   "outputs": [],
   "source": [
    "# np.save('query_embeddings_small.npy', query_embedding_array)"
   ]
  },
  {
   "cell_type": "code",
   "execution_count": 20,
   "id": "05a87c91",
   "metadata": {},
   "outputs": [],
   "source": [
    "# np.save('item_embeddings_small.npy', embedding_array)"
   ]
  },
  {
   "cell_type": "code",
   "execution_count": null,
   "id": "26ce0d55",
   "metadata": {},
   "outputs": [],
   "source": []
  }
 ],
 "metadata": {
  "kernelspec": {
   "display_name": "llm",
   "language": "python",
   "name": "python3"
  },
  "language_info": {
   "codemirror_mode": {
    "name": "ipython",
    "version": 3
   },
   "file_extension": ".py",
   "mimetype": "text/x-python",
   "name": "python",
   "nbconvert_exporter": "python",
   "pygments_lexer": "ipython3",
   "version": "3.13.2"
  }
 },
 "nbformat": 4,
 "nbformat_minor": 5
}
